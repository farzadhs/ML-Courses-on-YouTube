{
  "metadata": {
    "kernelspec": {
      "language": "python",
      "display_name": "Python 3",
      "name": "python3"
    },
    "language_info": {
      "pygments_lexer": "ipython3",
      "nbconvert_exporter": "python",
      "version": "3.6.4",
      "file_extension": ".py",
      "codemirror_mode": {
        "name": "ipython",
        "version": 3
      },
      "name": "python",
      "mimetype": "text/x-python"
    },
    "colab": {
      "name": "Persian عامیانه",
      "provenance": []
    }
  },
  "nbformat_minor": 0,
  "nbformat": 4,
  "cells": [
    {
      "source": [
        "\n",
        "# IMPORTANT: RUN THIS CELL IN ORDER TO IMPORT YOUR KAGGLE DATA SOURCES\n",
        "# TO THE CORRECT LOCATION (/kaggle/input) IN YOUR NOTEBOOK,\n",
        "# THEN FEEL FREE TO DELETE THIS CELL.\n",
        "# NOTE: THIS NOTEBOOK ENVIRONMENT DIFFERS FROM KAGGLE'S PYTHON\n",
        "# ENVIRONMENT SO THERE MAY BE MISSING LIBRARIES USED BY YOUR\n",
        "# NOTEBOOK.\n",
        "\n",
        "import os\n",
        "import sys\n",
        "from tempfile import NamedTemporaryFile\n",
        "from urllib.request import urlopen\n",
        "from urllib.parse import unquote, urlparse\n",
        "from urllib.error import HTTPError\n",
        "from zipfile import ZipFile\n",
        "import tarfile\n",
        "import shutil\n",
        "\n",
        "CHUNK_SIZE = 40960\n",
        "DATA_SOURCE_MAPPING = 'persianslang:https%3A%2F%2Fstorage.googleapis.com%2Fkaggle-data-sets%2F1660914%2F2725011%2Fbundle%2Farchive.zip%3FX-Goog-Algorithm%3DGOOG4-RSA-SHA256%26X-Goog-Credential%3Dgcp-kaggle-com%2540kaggle-161607.iam.gserviceaccount.com%252F20240321%252Fauto%252Fstorage%252Fgoog4_request%26X-Goog-Date%3D20240321T210746Z%26X-Goog-Expires%3D259200%26X-Goog-SignedHeaders%3Dhost%26X-Goog-Signature%3D483617a3007f563f84c36787f7773e87f59561f58ef9cf20bdf398ebb1285d1c961060a122b0e2d405939e3ba7b287bea1693126ccb540c1d770cb8587ae296bf07e5bcc6c239a9d6030dd625912f57cda6643e00e771c66b005cd58178624b1d048cbb1b18d205c6e235e8d5b4501cee037e26595823003c0dd4f30d95483c7ea9674740733c25279961c5fdf7abceb3c3ed5c0c541be93112551fe9d70129412f7889eed23b4ac92f06d52179107df3ca6a713a460b9684c482809e58e2e131bd2b1f7e0eeb6ccbb56eb8e42d57c996826203987819ba5ed2b2e01d7671efa3b26569b5b1fde3ff16ebdd80eaf5377536b725d9d8eb1d5b4a9a123f89039e8'\n",
        "\n",
        "KAGGLE_INPUT_PATH='/kaggle/input'\n",
        "KAGGLE_WORKING_PATH='/kaggle/working'\n",
        "KAGGLE_SYMLINK='kaggle'\n",
        "\n",
        "!umount /kaggle/input/ 2> /dev/null\n",
        "shutil.rmtree('/kaggle/input', ignore_errors=True)\n",
        "os.makedirs(KAGGLE_INPUT_PATH, 0o777, exist_ok=True)\n",
        "os.makedirs(KAGGLE_WORKING_PATH, 0o777, exist_ok=True)\n",
        "\n",
        "try:\n",
        "  os.symlink(KAGGLE_INPUT_PATH, os.path.join(\"..\", 'input'), target_is_directory=True)\n",
        "except FileExistsError:\n",
        "  pass\n",
        "try:\n",
        "  os.symlink(KAGGLE_WORKING_PATH, os.path.join(\"..\", 'working'), target_is_directory=True)\n",
        "except FileExistsError:\n",
        "  pass\n",
        "\n",
        "for data_source_mapping in DATA_SOURCE_MAPPING.split(','):\n",
        "    directory, download_url_encoded = data_source_mapping.split(':')\n",
        "    download_url = unquote(download_url_encoded)\n",
        "    filename = urlparse(download_url).path\n",
        "    destination_path = os.path.join(KAGGLE_INPUT_PATH, directory)\n",
        "    try:\n",
        "        with urlopen(download_url) as fileres, NamedTemporaryFile() as tfile:\n",
        "            total_length = fileres.headers['content-length']\n",
        "            print(f'Downloading {directory}, {total_length} bytes compressed')\n",
        "            dl = 0\n",
        "            data = fileres.read(CHUNK_SIZE)\n",
        "            while len(data) > 0:\n",
        "                dl += len(data)\n",
        "                tfile.write(data)\n",
        "                done = int(50 * dl / int(total_length))\n",
        "                sys.stdout.write(f\"\\r[{'=' * done}{' ' * (50-done)}] {dl} bytes downloaded\")\n",
        "                sys.stdout.flush()\n",
        "                data = fileres.read(CHUNK_SIZE)\n",
        "            if filename.endswith('.zip'):\n",
        "              with ZipFile(tfile) as zfile:\n",
        "                zfile.extractall(destination_path)\n",
        "            else:\n",
        "              with tarfile.open(tfile.name) as tarfile:\n",
        "                tarfile.extractall(destination_path)\n",
        "            print(f'\\nDownloaded and uncompressed: {directory}')\n",
        "    except HTTPError as e:\n",
        "        print(f'Failed to load (likely expired) {download_url} to path {destination_path}')\n",
        "        continue\n",
        "    except OSError as e:\n",
        "        print(f'Failed to load {download_url} to path {destination_path}')\n",
        "        continue\n",
        "\n",
        "print('Data source import complete.')\n"
      ],
      "metadata": {
        "id": "zsE90xqE14Fw"
      },
      "cell_type": "code",
      "outputs": [],
      "execution_count": null
    },
    {
      "cell_type": "code",
      "source": [
        "# This Python 3 environment comes with many helpful analytics libraries installed\n",
        "# It is defined by the kaggle/python Docker image: https://github.com/kaggle/docker-python\n",
        "# For example, here's several helpful packages to load\n",
        "\n",
        "import numpy as np # linear algebra\n",
        "import pandas as pd # data processing, CSV file I/O (e.g. pd.read_csv)\n",
        "from tqdm import tqdm\n",
        "import matplotlib.pyplot as plt\n",
        "import seaborn as sns\n",
        "\n",
        "# Input data files are available in the read-only \"../input/\" directory\n",
        "# For example, running this (by clicking run or pressing Shift+Enter) will list all files under the input directory\n",
        "\n",
        "import os\n",
        "for dirname, _, filenames in os.walk('/kaggle/input'):\n",
        "    for filename in filenames:\n",
        "        print(os.path.join(dirname, filename))\n",
        "\n",
        "# You can write up to 20GB to the current directory (/kaggle/working/) that gets preserved as output when you create a version using \"Save & Run All\"\n",
        "# You can also write temporary files to /kaggle/temp/, but they won't be saved outside of the current session"
      ],
      "metadata": {
        "_uuid": "8f2839f25d086af736a60e9eeb907d3b93b6e0e5",
        "_cell_guid": "b1076dfc-b9ad-4769-8c92-a6c4dae69d19",
        "execution": {
          "iopub.status.busy": "2021-10-22T00:00:51.494214Z",
          "iopub.execute_input": "2021-10-22T00:00:51.495114Z",
          "iopub.status.idle": "2021-10-22T00:00:52.516003Z",
          "shell.execute_reply.started": "2021-10-22T00:00:51.494938Z",
          "shell.execute_reply": "2021-10-22T00:00:52.514657Z"
        },
        "_kg_hide-input": true,
        "_kg_hide-output": true,
        "trusted": true,
        "id": "xBe1d6__14Fy"
      },
      "execution_count": null,
      "outputs": []
    },
    {
      "cell_type": "markdown",
      "source": [
        "![](https://encrypted-tbn0.gstatic.com/images?q=tbn:ANd9GcT2lMWOUKtpxulKPp5Ra9jZYP_1KPG-lUlNrA&usqp=CAU)youtube.com"
      ],
      "metadata": {
        "id": "mcny_6r414F0"
      }
    },
    {
      "cell_type": "code",
      "source": [
        "train = pd.read_json('../input/persianslang/data.json', encoding='utf8')\n",
        "train.head()"
      ],
      "metadata": {
        "execution": {
          "iopub.status.busy": "2021-10-22T00:03:01.209158Z",
          "iopub.execute_input": "2021-10-22T00:03:01.209776Z",
          "iopub.status.idle": "2021-10-22T00:03:01.231207Z",
          "shell.execute_reply.started": "2021-10-22T00:03:01.209714Z",
          "shell.execute_reply": "2021-10-22T00:03:01.230178Z"
        },
        "_kg_hide-input": true,
        "trusted": true,
        "id": "IN9OTjCk14F0"
      },
      "execution_count": null,
      "outputs": []
    },
    {
      "cell_type": "code",
      "source": [
        "train.isnull().sum()"
      ],
      "metadata": {
        "execution": {
          "iopub.status.busy": "2021-10-22T00:03:09.649358Z",
          "iopub.execute_input": "2021-10-22T00:03:09.649698Z",
          "iopub.status.idle": "2021-10-22T00:03:09.658689Z",
          "shell.execute_reply.started": "2021-10-22T00:03:09.649664Z",
          "shell.execute_reply": "2021-10-22T00:03:09.657816Z"
        },
        "_kg_hide-output": true,
        "trusted": true,
        "id": "QffI-zLl14F1"
      },
      "execution_count": null,
      "outputs": []
    },
    {
      "cell_type": "code",
      "source": [
        "##Code by Taha07  https://www.kaggle.com/taha07/data-scientists-jobs-analysis-visualization/notebook\n",
        "\n",
        "from wordcloud import WordCloud\n",
        "from wordcloud import STOPWORDS\n",
        "stopwords = set(STOPWORDS)\n",
        "wordcloud = WordCloud(background_color = 'green',\n",
        "                      height =2000,\n",
        "                      width = 2000\n",
        "                     ).generate(str(train[\"words\"]))\n",
        "plt.rcParams['figure.figsize'] = (12,12)\n",
        "plt.axis(\"off\")\n",
        "plt.imshow(wordcloud)\n",
        "plt.title(\"Persian Slang\")\n",
        "plt.show()"
      ],
      "metadata": {
        "execution": {
          "iopub.status.busy": "2021-10-22T00:11:40.5679Z",
          "iopub.execute_input": "2021-10-22T00:11:40.568955Z",
          "iopub.status.idle": "2021-10-22T00:11:45.699292Z",
          "shell.execute_reply.started": "2021-10-22T00:11:40.568896Z",
          "shell.execute_reply": "2021-10-22T00:11:45.698206Z"
        },
        "_kg_hide-input": true,
        "trusted": true,
        "id": "ctWXujAS14F1"
      },
      "execution_count": null,
      "outputs": []
    },
    {
      "cell_type": "code",
      "source": [
        "!pip install arabic_reshaper\n",
        "!pip install python-bidi\n",
        "!pip install requests"
      ],
      "metadata": {
        "execution": {
          "iopub.status.busy": "2021-10-22T00:17:34.519486Z",
          "iopub.execute_input": "2021-10-22T00:17:34.519899Z",
          "iopub.status.idle": "2021-10-22T00:18:02.714278Z",
          "shell.execute_reply.started": "2021-10-22T00:17:34.519861Z",
          "shell.execute_reply": "2021-10-22T00:18:02.713387Z"
        },
        "_kg_hide-output": true,
        "trusted": true,
        "id": "dcqCUohQ14F2"
      },
      "execution_count": null,
      "outputs": []
    },
    {
      "cell_type": "code",
      "source": [
        " !pip install ar_wordcloud"
      ],
      "metadata": {
        "execution": {
          "iopub.status.busy": "2021-10-22T00:18:16.989811Z",
          "iopub.execute_input": "2021-10-22T00:18:16.990125Z",
          "iopub.status.idle": "2021-10-22T00:18:26.263088Z",
          "shell.execute_reply.started": "2021-10-22T00:18:16.990092Z",
          "shell.execute_reply": "2021-10-22T00:18:26.262066Z"
        },
        "_kg_hide-output": true,
        "trusted": true,
        "id": "sqVoD0uQ14F2"
      },
      "execution_count": null,
      "outputs": []
    },
    {
      "cell_type": "code",
      "source": [
        "import codecs\n",
        "from wordcloud import WordCloud\n",
        "from bidi.algorithm import get_display\n",
        "\n",
        "import matplotlib.pyplot as plt\n",
        "from wordcloud import WordCloud\n",
        "import arabic_reshaper # this was missing in your code\n",
        "\n",
        "from collections import Counter\n",
        "\n",
        "from wordcloud import WordCloud          # pip install wordcloud\n",
        "import matplotlib.pyplot as plt\n",
        "# -- Arabic text dependencies\n",
        "from arabic_reshaper import reshape      # pip install arabic-reshaper\n",
        "from bidi.algorithm import get_display   # pip install python-bidi\n",
        "\n",
        "text = \" \".join(str(each) for each in train.words)\n",
        "\n",
        "rtl = lambda w: get_display(reshape(f'{w}'))\n",
        "\n",
        "COUNTS = Counter(\"'مترادفها'نخ دادن ،راه دادن\".split())\n",
        "counts = {rtl(k):v for k, v in COUNTS.most_common(10)}\n",
        "\n",
        "url= 'https://www.google.com/get/noto/#naskh-arab'\n",
        "\n",
        "font_file = './NotoNaskhArabic-Regular.ttf' # download from: https://www.google.com/get/noto\n",
        "wordcloud = WordCloud(font_path=font_file).generate_from_frequencies(counts)\n",
        "plt.imshow(wordcloud, interpolation=\"bilinear\")\n",
        "plt.axis(\"off\")\n",
        "plt.show()"
      ],
      "metadata": {
        "execution": {
          "iopub.status.busy": "2021-10-22T00:21:35.022734Z",
          "iopub.execute_input": "2021-10-22T00:21:35.023388Z",
          "iopub.status.idle": "2021-10-22T00:21:35.116078Z",
          "shell.execute_reply.started": "2021-10-22T00:21:35.02332Z",
          "shell.execute_reply": "2021-10-22T00:21:35.114815Z"
        },
        "_kg_hide-output": true,
        "trusted": true,
        "id": "0Uf3jKSs14F4"
      },
      "execution_count": null,
      "outputs": []
    },
    {
      "cell_type": "markdown",
      "source": [
        "#Codes by https://pypi.org/project/wordcloud-fa/"
      ],
      "metadata": {
        "id": "0euYEE6O14F4"
      }
    },
    {
      "cell_type": "code",
      "source": [
        "!pip install wordcloud-fa"
      ],
      "metadata": {
        "execution": {
          "iopub.status.busy": "2021-10-22T00:30:04.126852Z",
          "iopub.execute_input": "2021-10-22T00:30:04.127953Z",
          "iopub.status.idle": "2021-10-22T00:30:28.027353Z",
          "shell.execute_reply.started": "2021-10-22T00:30:04.127891Z",
          "shell.execute_reply": "2021-10-22T00:30:28.026118Z"
        },
        "_kg_hide-output": true,
        "trusted": true,
        "id": "WPJP7Sdz14F5"
      },
      "execution_count": null,
      "outputs": []
    },
    {
      "cell_type": "code",
      "source": [
        "from wordcloud_fa import WordCloudFa"
      ],
      "metadata": {
        "execution": {
          "iopub.status.busy": "2021-10-22T00:30:52.531934Z",
          "iopub.execute_input": "2021-10-22T00:30:52.532328Z",
          "iopub.status.idle": "2021-10-22T00:30:53.005904Z",
          "shell.execute_reply.started": "2021-10-22T00:30:52.532281Z",
          "shell.execute_reply": "2021-10-22T00:30:53.004659Z"
        },
        "trusted": true,
        "id": "IH_wEwXr14F5"
      },
      "execution_count": null,
      "outputs": []
    },
    {
      "cell_type": "code",
      "source": [
        "wordcloud = WordCloudFa()"
      ],
      "metadata": {
        "execution": {
          "iopub.status.busy": "2021-10-22T00:31:12.217481Z",
          "iopub.execute_input": "2021-10-22T00:31:12.217858Z",
          "iopub.status.idle": "2021-10-22T00:31:12.223353Z",
          "shell.execute_reply.started": "2021-10-22T00:31:12.217817Z",
          "shell.execute_reply": "2021-10-22T00:31:12.222042Z"
        },
        "trusted": true,
        "id": "KSGezaIX14F5"
      },
      "execution_count": null,
      "outputs": []
    },
    {
      "cell_type": "code",
      "source": [
        "wordcloud = WordCloudFa(persian_normalize=True)"
      ],
      "metadata": {
        "execution": {
          "iopub.status.busy": "2021-10-22T00:31:40.271673Z",
          "iopub.execute_input": "2021-10-22T00:31:40.27238Z",
          "iopub.status.idle": "2021-10-22T00:31:40.277727Z",
          "shell.execute_reply.started": "2021-10-22T00:31:40.272314Z",
          "shell.execute_reply": "2021-10-22T00:31:40.276515Z"
        },
        "trusted": true,
        "id": "1vLNa4Sw14F6"
      },
      "execution_count": null,
      "outputs": []
    },
    {
      "cell_type": "code",
      "source": [
        "wordcloud = WordCloudFa(include_numbers=False)"
      ],
      "metadata": {
        "execution": {
          "iopub.status.busy": "2021-10-22T00:32:03.192142Z",
          "iopub.execute_input": "2021-10-22T00:32:03.192521Z",
          "iopub.status.idle": "2021-10-22T00:32:03.197782Z",
          "shell.execute_reply.started": "2021-10-22T00:32:03.192486Z",
          "shell.execute_reply": "2021-10-22T00:32:03.196711Z"
        },
        "trusted": true,
        "id": "tzwSZGbi14F6"
      },
      "execution_count": null,
      "outputs": []
    },
    {
      "cell_type": "code",
      "source": [
        "wordcloud = WordCloudFa(no_reshape=True)"
      ],
      "metadata": {
        "execution": {
          "iopub.status.busy": "2021-10-22T00:32:18.079309Z",
          "iopub.execute_input": "2021-10-22T00:32:18.079706Z",
          "iopub.status.idle": "2021-10-22T00:32:18.08549Z",
          "shell.execute_reply.started": "2021-10-22T00:32:18.079648Z",
          "shell.execute_reply": "2021-10-22T00:32:18.084352Z"
        },
        "trusted": true,
        "id": "TlrE2sRK14F6"
      },
      "execution_count": null,
      "outputs": []
    },
    {
      "cell_type": "markdown",
      "source": [
        "#Generating Word Cloud from Text"
      ],
      "metadata": {
        "id": "pHSqP-P214F6"
      }
    },
    {
      "cell_type": "code",
      "source": [
        "wordcloud = WordCloudFa(persian_normalize=True)\n",
        "wc = wordcloud.generate(text)\n",
        "image = wc.to_image()\n",
        "image.show()\n",
        "image.save('wordcloud.png')\n",
        "plt.show()"
      ],
      "metadata": {
        "execution": {
          "iopub.status.busy": "2021-10-22T00:46:56.840923Z",
          "iopub.execute_input": "2021-10-22T00:46:56.841263Z",
          "iopub.status.idle": "2021-10-22T00:46:58.134054Z",
          "shell.execute_reply.started": "2021-10-22T00:46:56.841228Z",
          "shell.execute_reply": "2021-10-22T00:46:58.132797Z"
        },
        "trusted": true,
        "id": "ppimnak714F6"
      },
      "execution_count": null,
      "outputs": []
    },
    {
      "cell_type": "markdown",
      "source": [
        "#Generating Word Cloud from Frequencies\n",
        "\n",
        "I don't even know what is Frequency to a WordCloud."
      ],
      "metadata": {
        "id": "BiEXe2Rz14F7"
      }
    },
    {
      "cell_type": "code",
      "source": [
        "wordcloud = WordCloudFa()\n",
        "frequencies = wordcloud.process_text(text)\n",
        "wc = wordcloud.generate_from_frequencies(frequencies)"
      ],
      "metadata": {
        "execution": {
          "iopub.status.busy": "2021-10-22T00:33:06.454451Z",
          "iopub.execute_input": "2021-10-22T00:33:06.454823Z",
          "iopub.status.idle": "2021-10-22T00:33:07.344764Z",
          "shell.execute_reply.started": "2021-10-22T00:33:06.454787Z",
          "shell.execute_reply": "2021-10-22T00:33:07.343791Z"
        },
        "trusted": true,
        "id": "fBcMLvpp14F7"
      },
      "execution_count": null,
      "outputs": []
    },
    {
      "cell_type": "markdown",
      "source": [
        "#Working with Stopwords"
      ],
      "metadata": {
        "id": "b9eFWj0W14F7"
      }
    },
    {
      "cell_type": "code",
      "source": [
        "stop_words = set(['کلمه‌ی اول', 'کلمه‌ی دوم'])\n",
        "wc = WordCloudFa(stopwords=stop_words)\n",
        "plt.show()"
      ],
      "metadata": {
        "execution": {
          "iopub.status.busy": "2021-10-22T00:47:11.098303Z",
          "iopub.execute_input": "2021-10-22T00:47:11.098658Z",
          "iopub.status.idle": "2021-10-22T00:47:11.104707Z",
          "shell.execute_reply.started": "2021-10-22T00:47:11.098621Z",
          "shell.execute_reply": "2021-10-22T00:47:11.103825Z"
        },
        "trusted": true,
        "id": "f35hWIaN14F7"
      },
      "execution_count": null,
      "outputs": []
    },
    {
      "cell_type": "markdown",
      "source": [
        "\"If you want to add additional words to the default stopwords, you can simply call add_stop_words method on your instance of WordCloudFa and pass an iterable type (list, set, ...) into it.\""
      ],
      "metadata": {
        "id": "k-lK9pHa14F7"
      }
    },
    {
      "cell_type": "code",
      "source": [
        "wc = WordCloudFa()\n",
        "wc.add_stop_words(['کلمه‌ی اول', 'کلمه‌ی دوم'])\n",
        "plt.show()"
      ],
      "metadata": {
        "execution": {
          "iopub.status.busy": "2021-10-22T00:47:26.251134Z",
          "iopub.execute_input": "2021-10-22T00:47:26.251763Z",
          "iopub.status.idle": "2021-10-22T00:47:26.256549Z",
          "shell.execute_reply.started": "2021-10-22T00:47:26.251717Z",
          "shell.execute_reply": "2021-10-22T00:47:26.255633Z"
        },
        "trusted": true,
        "id": "f8t2vj5514F7"
      },
      "execution_count": null,
      "outputs": []
    },
    {
      "cell_type": "markdown",
      "source": [
        "Till now I don't know how to make a WordCloud with those characters, which tff font to apply? Cannot open Resource."
      ],
      "metadata": {
        "id": "IZ2icPWe14F8"
      }
    },
    {
      "cell_type": "markdown",
      "source": [
        "Since we have only one column I've no clue about what to perform. I tried yo add label though it doesn't work."
      ],
      "metadata": {
        "execution": {
          "iopub.status.busy": "2021-10-22T00:03:50.729224Z",
          "iopub.execute_input": "2021-10-22T00:03:50.730279Z",
          "iopub.status.idle": "2021-10-22T00:03:50.764229Z",
          "shell.execute_reply.started": "2021-10-22T00:03:50.730219Z",
          "shell.execute_reply": "2021-10-22T00:03:50.762791Z"
        },
        "id": "Vl2-i3XB14F8"
      }
    }
  ]
}